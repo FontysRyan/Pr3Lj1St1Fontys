{
 "cells": [
  {
   "cell_type": "markdown",
   "id": "bdd37767",
   "metadata": {},
   "source": [
    "## Dit is de API voor project 4 VisuStore\n"
   ]
  },
  {
   "cell_type": "code",
   "execution_count": null,
   "id": "5b232ccf",
   "metadata": {},
   "outputs": [],
   "source": [
    "{\n",
    "    \"Inlog DB VM\"{\n",
    "        \"IP\"   : \"192.168.133.123\",\n",
    "        \"User\" : \"student\",\n",
    "        \"Pass\" : \"VisuPass!@\"\n",
    "    }\n",
    "\n",
    "    \"DB Admin user\"{\n",
    "        \"User\" : \"vsadmin\",\n",
    "        \"Pass\" : \"visupapa\"\n",
    "    }\n",
    "}"
   ]
  },
  {
   "cell_type": "markdown",
   "id": "8aadeb31",
   "metadata": {},
   "source": [
    "Imports:"
   ]
  },
  {
   "cell_type": "code",
   "execution_count": 1,
   "id": "ae8feb06",
   "metadata": {},
   "outputs": [],
   "source": [
    "import os\n",
    "from dotenv import load_dotenv\n",
    "from flask import Flask\n",
    "from flask_sqlalchemy import SQLAlchemy"
   ]
  },
  {
   "cell_type": "markdown",
   "id": "8ac34049",
   "metadata": {},
   "source": [
    "Dit volgende stukje maakt de flask app en zet de connectie string en inlog. In de config wordt de inlog naam en wachtwoord uit het bestand .env gevraagd\n"
   ]
  },
  {
   "cell_type": "code",
   "execution_count": 2,
   "id": "90f6d8b6",
   "metadata": {},
   "outputs": [
    {
     "name": "stdout",
     "output_type": "stream",
     "text": [
      "vsadmin\n",
      "visupapa\n"
     ]
    }
   ],
   "source": [
    "load_dotenv(override=True)\n",
    "\n",
    "print(os.getenv('DB_USER'))\n",
    "print(os.getenv('DB_PASS'))\n",
    "app = Flask(__name__)\n",
    "app.config['SQLALCHEMY_DATABASE_URI'] = (\n",
    "    f\"mysql+pymysql://\"\n",
    "    f\"{os.getenv('DB_USER')}:{os.getenv('DB_PASS')}\"\n",
    "    f\"@{os.getenv('DB_HOST')}/{os.getenv('DB_NAME')}\"\n",
    ")\n",
    "app.config['SQLALCHEMY_TRACK_MODIFICATIONS'] = False\n",
    "\n",
    "db = SQLAlchemy(app)"
   ]
  },
  {
   "cell_type": "code",
   "execution_count": 3,
   "id": "80217fd6",
   "metadata": {},
   "outputs": [
    {
     "name": "stdout",
     "output_type": "stream",
     "text": [
      "vsadmin\n",
      "New warehouse row inserted successfully.\n"
     ]
    }
   ],
   "source": [
    "from sqlalchemy import create_engine, text\n",
    "engine = create_engine(\n",
    "    f\"mysql+pymysql://\"\n",
    "    f\"{os.getenv('DB_USER')}:{os.getenv('DB_PASS')}\"\n",
    "    f\"@{os.getenv('DB_HOST')}/{os.getenv('DB_NAME')}\"\n",
    ")\n",
    "print(os.getenv('DB_USER'))\n",
    "\n",
    "def try_connect_and_insert():\n",
    "    \n",
    "    with engine.connect() as conn:\n",
    "        insert_query = text(\"\"\"\n",
    "            INSERT INTO warehouses (name, address, city, postal_code)\n",
    "            VALUES (:name, :address, :city, :postal_code)\n",
    "        \"\"\")\n",
    "        conn.execute(insert_query, {\"name\": \"Central Warehouse\", \"address\": \"racheltje\", \"city\" : \"eindje ho\", \"postal_code\": \"1234AB\"})\n",
    "        conn.commit()\n",
    "        print(\"New warehouse row inserted successfully.\")\n",
    "\n",
    "try_connect_and_insert()"
   ]
  }
 ],
 "metadata": {
  "kernelspec": {
   "display_name": ".venv",
   "language": "python",
   "name": "python3"
  },
  "language_info": {
   "codemirror_mode": {
    "name": "ipython",
    "version": 3
   },
   "file_extension": ".py",
   "mimetype": "text/x-python",
   "name": "python",
   "nbconvert_exporter": "python",
   "pygments_lexer": "ipython3",
   "version": "3.13.3"
  }
 },
 "nbformat": 4,
 "nbformat_minor": 5
}
