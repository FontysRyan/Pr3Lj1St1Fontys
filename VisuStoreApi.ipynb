{
 "cells": [
  {
   "cell_type": "markdown",
   "id": "bdd37767",
   "metadata": {},
   "source": [
    "## Dit is de API voor project 4 VisuStore\n"
   ]
  },
  {
   "cell_type": "code",
   "execution_count": null,
   "id": "5b232ccf",
   "metadata": {},
   "outputs": [],
   "source": [
    "{\n",
    "    \"Inlog DB VM\"{\n",
    "        \"IP\"   : \"192.168.133.123\",\n",
    "        \"User\" : \"student\",\n",
    "        \"Pass\" : \"VisuPass!@\"\n",
    "    }\n",
    "\n",
    "    \"DB Admin user\"{\n",
    "        \"User\" : \"vsadmin\",\n",
    "        \"Pass\" : \"visupapa\"\n",
    "    }\n",
    "}"
   ]
  },
  {
   "cell_type": "markdown",
   "id": "8aadeb31",
   "metadata": {},
   "source": [
    "Imports:"
   ]
  },
  {
   "cell_type": "code",
   "execution_count": 18,
   "id": "ae8feb06",
   "metadata": {},
   "outputs": [],
   "source": [
    "import os\n",
    "from dotenv import load_dotenv\n",
    "from flask import Flask\n",
    "from flask_sqlalchemy import SQLAlchemy"
   ]
  },
  {
   "cell_type": "markdown",
   "id": "8ac34049",
   "metadata": {},
   "source": [
    "Dit volgende stukje maakt de flask app en zet de connectie string en inlog. In de config wordt de inlog naam en wachtwoord uit het bestand .env gevraagd\n"
   ]
  },
  {
   "cell_type": "code",
   "execution_count": 2,
   "id": "90f6d8b6",
   "metadata": {},
   "outputs": [
    {
     "name": "stdout",
     "output_type": "stream",
     "text": [
      "vsadmin\n",
      "visupapa\n"
     ]
    }
   ],
   "source": [
    "load_dotenv(override=True)\n",
    "\n",
    "print(os.getenv('DB_USER'))\n",
    "print(os.getenv('DB_PASS'))\n",
    "app = Flask(__name__)\n",
    "app.config['SQLALCHEMY_DATABASE_URI'] = (\n",
    "    f\"mysql+pymysql://\"\n",
    "    f\"{os.getenv('DB_USER')}:{os.getenv('DB_PASS')}\"\n",
    "    f\"@{os.getenv('DB_HOST')}/{os.getenv('DB_NAME')}\"\n",
    ")\n",
    "app.config['SQLALCHEMY_TRACK_MODIFICATIONS'] = False\n",
    "\n",
    "db = SQLAlchemy(app)"
   ]
  },
  {
   "cell_type": "code",
   "execution_count": null,
   "id": "80217fd6",
   "metadata": {},
   "outputs": [
    {
     "name": "stdout",
     "output_type": "stream",
     "text": [
      "vsadmin\n",
      "1 rij toegevoegd aan warehouses.\n",
      "1 rij toegevoegd aan zones.\n"
     ]
    }
   ],
   "source": [
    "from sqlalchemy import create_engine, MetaData, text\n",
    "\n",
    "engine = create_engine(\n",
    "    f\"mysql+pymysql://\"\n",
    "    f\"{os.getenv('DB_USER')}:{os.getenv('DB_PASS')}\"\n",
    "    f\"@{os.getenv('DB_HOST')}/{os.getenv('DB_NAME')}\"\n",
    ")\n",
    "print(os.getenv('DB_USER'))\n",
    "\n",
    "metadata = MetaData()\n",
    "# Leest alle tabellen in de database in\n",
    "metadata.reflect(bind=engine)\n",
    "\n",
    "def insert_into(table_name: str, data: dict):\n",
    "    \"\"\"\n",
    "    Insert een rij in de opgegeven tabel via SQLAlchemy Core.\n",
    "    \"\"\"\n",
    "    # 1. Table-object ophalen\n",
    "    if table_name not in metadata.tables:\n",
    "        raise ValueError(f\"Tabel '{table_name}' niet gevonden in metadata.\")\n",
    "    table = metadata.tables[table_name]\n",
    "\n",
    "    # 2. Insert-statement bouwen\n",
    "    stmt = table.insert().values(**data)\n",
    "\n",
    "    # 3. Uitvoeren\n",
    "    with engine.connect() as conn:\n",
    "        conn.execute(stmt)\n",
    "        conn.commit()\n",
    "        print(f\"1 rij toegevoegd aan {table_name}.\")\n",
    "\n",
    "# Voorbeeldgebruik:\n",
    "# insert_into(\"warehouses\", {\n",
    "#     \"name\": \"East Hub\",\n",
    "#     \"address\": \"Laan 10\",\n",
    "#     \"city\": \"Utrecht\",\n",
    "#     \"postal_code\": \"3500BB\"\n",
    "# })\n",
    "# insert_into(\"zones\", {\n",
    "#     \"zone_id\": 1,\n",
    "#     \"warehouse_id\": 1,\n",
    "#     \"zone_name\": \"Zone A\",\n",
    "#     \"zone_type\": \"Storage\"\n",
    "# })"
   ]
  },
  {
   "cell_type": "code",
   "execution_count": null,
   "id": "e02ecb30",
   "metadata": {},
   "outputs": [
    {
     "name": "stdout",
     "output_type": "stream",
     "text": [
      "vsadmin\n",
      "1 rij(en) verwijderd uit warehouses.\n"
     ]
    }
   ],
   "source": [
    "from sqlalchemy import create_engine, text\n",
    "\n",
    "engine = create_engine(\n",
    "    f\"mysql+pymysql://\"\n",
    "    f\"{os.getenv('DB_USER')}:{os.getenv('DB_PASS')}\"\n",
    "    f\"@{os.getenv('DB_HOST')}/{os.getenv('DB_NAME')}\"\n",
    ")\n",
    "print(os.getenv('DB_USER'))\n",
    "\n",
    "def delete_from(table_name: str, where_clauses: dict):\n",
    "    # 1. WHERE-expressie samenstellen\n",
    "    conditions = \" AND \".join(f\"{col} = :{col}\" for col in where_clauses.keys())\n",
    "\n",
    "    # 2. Query bouwen\n",
    "    query = text(f\"DELETE FROM {table_name} WHERE {conditions}\")\n",
    "\n",
    "    # 3. Uitvoeren\n",
    "    with engine.connect() as conn:\n",
    "        result = conn.execute(query, where_clauses)\n",
    "        conn.commit()\n",
    "        print(f\"{result.rowcount} rij(en) verwijderd uit {table_name}.\")\n",
    "\n",
    "# Voorbeeld:\n",
    "# delete_from(\n",
    "#     table_name=\"warehouses\",\n",
    "#     where_clauses={\"warehouse_id\": 5}\n",
    "# )\n"
   ]
  },
  {
   "cell_type": "code",
   "execution_count": null,
   "id": "8aaa1bc3",
   "metadata": {},
   "outputs": [
    {
     "name": "stdout",
     "output_type": "stream",
     "text": [
      "vsadmin\n",
      "1 rij(en) bijgewerkt in warehouses.\n"
     ]
    }
   ],
   "source": [
    "from sqlalchemy import create_engine, text\n",
    "\n",
    "engine = create_engine(\n",
    "    f\"mysql+pymysql://\"\n",
    "    f\"{os.getenv('DB_USER')}:{os.getenv('DB_PASS')}\"\n",
    "    f\"@{os.getenv('DB_HOST')}/{os.getenv('DB_NAME')}\"\n",
    ")\n",
    "print(os.getenv('DB_USER'))\n",
    "\n",
    "def update_table(table_name: str, update_values: dict, where_clauses: dict):\n",
    "\n",
    "    # 1. SET-expressie samenstellen\n",
    "    set_expr = \", \".join(f\"{col} = :upd_{col}\" for col in update_values.keys())\n",
    "    # 2. WHERE-expressie samenstellen\n",
    "    where_expr = \" AND \".join(f\"{col} = :where_{col}\" for col in where_clauses.keys())\n",
    "    \n",
    "    # 3. Query bouwen\n",
    "    query = text(f\"\"\"\n",
    "        UPDATE {table_name}\n",
    "        SET {set_expr}\n",
    "        WHERE {where_expr}\n",
    "    \"\"\")\n",
    "    \n",
    "    # 4. Parameters voorbereiden (prefix om clashes te voorkomen)\n",
    "    params = {}\n",
    "    params.update({f\"upd_{col}\": val for col, val in update_values.items()})\n",
    "    params.update({f\"where_{col}\": val for col, val in where_clauses.items()})\n",
    "    \n",
    "    # 5. Uitvoeren\n",
    "    with engine.connect() as conn:\n",
    "        result = conn.execute(query, params)\n",
    "        conn.commit()\n",
    "        print(f\"{result.rowcount} rij(en) bijgewerkt in {table_name}.\")\n",
    "\n",
    "# Voorbeeld:\n",
    "# update_table(\n",
    "#     table_name=\"warehouses\",\n",
    "#     update_values={\"name\": \"Joris de belg\"},\n",
    "#     where_clauses={\"warehouse_id\": 1}\n",
    "# )\n"
   ]
  },
  {
   "cell_type": "code",
   "execution_count": 17,
   "id": "3bbde144",
   "metadata": {},
   "outputs": [
    {
     "name": "stdout",
     "output_type": "stream",
     "text": [
      "vsadmin\n",
      "(2, 'Central Warehouse', 'Racheltje 1', 'Eindhoven', '1234AB', datetime.datetime(2025, 5, 12, 11, 0, 2))\n"
     ]
    },
    {
     "data": {
      "text/plain": [
       "[(2, 'Central Warehouse', 'Racheltje 1', 'Eindhoven', '1234AB', datetime.datetime(2025, 5, 12, 11, 0, 2))]"
      ]
     },
     "execution_count": 17,
     "metadata": {},
     "output_type": "execute_result"
    }
   ],
   "source": [
    "from sqlalchemy import create_engine, text\n",
    "\n",
    "engine = create_engine(\n",
    "    f\"mysql+pymysql://\"\n",
    "    f\"{os.getenv('DB_USER')}:{os.getenv('DB_PASS')}\"\n",
    "    f\"@{os.getenv('DB_HOST')}/{os.getenv('DB_NAME')}\"\n",
    ")\n",
    "print(os.getenv('DB_USER'))\n",
    "\n",
    "\n",
    "def select_from(table_name: str, where_clauses: dict = None):\n",
    "    query_str = f\"SELECT * FROM {table_name}\"\n",
    "    params = {}\n",
    "\n",
    "    if where_clauses:\n",
    "        conditions = \" AND \".join(f\"{col} = :{col}\" for col in where_clauses)\n",
    "        query_str += f\" WHERE {conditions}\"\n",
    "        params = where_clauses\n",
    "\n",
    "    query = text(query_str)\n",
    "\n",
    "    with engine.connect() as conn:\n",
    "        result = conn.execute(query, params)\n",
    "        rows = result.fetchall()\n",
    "        for row in rows:\n",
    "            print(row)\n",
    "        return rows\n",
    "\n",
    "# Voorbeeld:\n",
    "select_from(\"warehouses\", {\"city\": \"Eindhoven\"})"
   ]
  }
 ],
 "metadata": {
  "kernelspec": {
   "display_name": ".venv",
   "language": "python",
   "name": "python3"
  },
  "language_info": {
   "codemirror_mode": {
    "name": "ipython",
    "version": 3
   },
   "file_extension": ".py",
   "mimetype": "text/x-python",
   "name": "python",
   "nbconvert_exporter": "python",
   "pygments_lexer": "ipython3",
   "version": "3.13.3"
  }
 },
 "nbformat": 4,
 "nbformat_minor": 5
}
